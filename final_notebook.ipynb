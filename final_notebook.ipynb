{
 "cells": [
  {
   "cell_type": "code",
   "execution_count": 21,
   "metadata": {},
   "outputs": [],
   "source": [
    "# Initial Imports \n",
    "import pandas as pd \n",
    "import numpy as np \n",
    "import seaborn as sns \n",
    "import matplotlib.pyplot as plt \n",
    "pd.set_option(\"display.max_columns\", None)"
   ]
  },
  {
   "cell_type": "code",
   "execution_count": 22,
   "metadata": {},
   "outputs": [
    {
     "name": "stderr",
     "output_type": "stream",
     "text": [
      "/var/folders/h4/bmfyh9q95ws8cxksqm1z9m4c0000gn/T/ipykernel_3625/1195080869.py:1: DtypeWarning: Columns (16) have mixed types. Specify dtype option on import or set low_memory=False.\n",
      "  df_client_data = pd.read_csv('../HET/Data/client_data.csv')\n",
      "/var/folders/h4/bmfyh9q95ws8cxksqm1z9m4c0000gn/T/ipykernel_3625/1195080869.py:3: DtypeWarning: Columns (14,15) have mixed types. Specify dtype option on import or set low_memory=False.\n",
      "  df_benchmark = pd.read_csv('../HET/Data/benchmark_data.csv')\n"
     ]
    }
   ],
   "source": [
    "df_client_data = pd.read_csv('../HET/Data/client_data.csv')\n",
    "df_client_membership = pd.read_csv('../HET/Data/client_membership.csv')\n",
    "df_benchmark = pd.read_csv('../HET/Data/benchmark_data.csv')"
   ]
  },
  {
   "cell_type": "code",
   "execution_count": 23,
   "metadata": {},
   "outputs": [
    {
     "data": {
      "text/plain": [
       "dw_mbr_key                object\n",
       "gender                    object\n",
       "age                        int64\n",
       "zip_cd                    object\n",
       "relationship              object\n",
       "enrollment_month           int64\n",
       "MSA                       object\n",
       "state                     object\n",
       "area_id                   object\n",
       "risk_score               float64\n",
       "sdoh_percentile           object\n",
       "urban_percentile          object\n",
       "hypertension_ind           int64\n",
       "depression_ind             int64\n",
       "hyperlipidemia_ind         int64\n",
       "cad_ind                    int64\n",
       "diabetes_ind               int64\n",
       "alcohol_ind                int64\n",
       "sud_ind                    int64\n",
       "copd_ind                   int64\n",
       "psychotic_ind              int64\n",
       "hypothyroidism_ind         int64\n",
       "anxiety_ind                int64\n",
       "cancer_ind                 int64\n",
       "pregnancy_ind              int64\n",
       "annual_wellness_visit      int64\n",
       "dtype: object"
      ]
     },
     "execution_count": 23,
     "metadata": {},
     "output_type": "execute_result"
    }
   ],
   "source": [
    "df_client_membership = df.drop\n"
   ]
  },
  {
   "cell_type": "code",
   "execution_count": null,
   "metadata": {},
   "outputs": [],
   "source": []
  }
 ],
 "metadata": {
  "kernelspec": {
   "display_name": "Python 3.9.10 ('.venv': venv)",
   "language": "python",
   "name": "python3"
  },
  "language_info": {
   "codemirror_mode": {
    "name": "ipython",
    "version": 3
   },
   "file_extension": ".py",
   "mimetype": "text/x-python",
   "name": "python",
   "nbconvert_exporter": "python",
   "pygments_lexer": "ipython3",
   "version": "3.9.10"
  },
  "orig_nbformat": 4,
  "vscode": {
   "interpreter": {
    "hash": "d722bc0fc29e7c69dd135a416fcdb0b2ace142d109dc9208f8ca1468f116c5e6"
   }
  }
 },
 "nbformat": 4,
 "nbformat_minor": 2
}
