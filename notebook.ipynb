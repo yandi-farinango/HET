{
 "cells": [
  {
   "cell_type": "code",
   "execution_count": 2,
   "metadata": {},
   "outputs": [],
   "source": [
    "# Initial Imports \n",
    "import pandas as pd \n",
    "import numpy as np \n",
    "import seaborn as sns \n",
    "import matplotlib.pyplot as plt "
   ]
  },
  {
   "cell_type": "code",
   "execution_count": 7,
   "metadata": {},
   "outputs": [
    {
     "name": "stderr",
     "output_type": "stream",
     "text": [
      "/var/folders/h4/bmfyh9q95ws8cxksqm1z9m4c0000gn/T/ipykernel_74280/1195080869.py:1: DtypeWarning: Columns (16) have mixed types. Specify dtype option on import or set low_memory=False.\n",
      "  df_client_data = pd.read_csv('../HET/Data/client_data.csv')\n",
      "/var/folders/h4/bmfyh9q95ws8cxksqm1z9m4c0000gn/T/ipykernel_74280/1195080869.py:3: DtypeWarning: Columns (14,15) have mixed types. Specify dtype option on import or set low_memory=False.\n",
      "  df_benchmark = pd.read_csv('../HET/Data/benchmark_data.csv')\n"
     ]
    }
   ],
   "source": [
    "df_client_data = pd.read_csv('../HET/Data/client_data.csv')\n",
    "df_client_membership = pd.read_csv('../HET/Data/client_membership.csv')\n",
    "df_benchmark = pd.read_csv('../HET/Data/benchmark_data.csv')"
   ]
  },
  {
   "cell_type": "code",
   "execution_count": 40,
   "metadata": {},
   "outputs": [
    {
     "data": {
      "text/plain": [
       "gender                       object\n",
       "age                           int64\n",
       "uniq_mbr_cnt                 object\n",
       "mbr_months_ccs               object\n",
       "Primary_CCS_Dx_Level_1       object\n",
       "Primary_CCS_Dx_Level_2       object\n",
       "Total_Allowed                object\n",
       "Total_Paid                   object\n",
       "Allowed_Inpatient            object\n",
       "Allowed_Outpatient           object\n",
       "Allowed_Professional         object\n",
       "Paid_Inpatient               object\n",
       "Paid_Outpatient              object\n",
       "Paid_Professional            object\n",
       "Adm_cnt_Inpatient            object\n",
       "Day_cnt_Inpatient            object\n",
       "Visit_cnt_Outpatient         object\n",
       "Visit_cnt_Professional       object\n",
       "Proc_cnt_Professional        object\n",
       "Svc_unit_cnt_Professional    object\n",
       "non_utilizer                 object\n",
       "dtype: object"
      ]
     },
     "execution_count": 40,
     "metadata": {},
     "output_type": "execute_result"
    }
   ],
   "source": [
    "df_benchmark.dtypes"
   ]
  },
  {
   "cell_type": "code",
   "execution_count": 41,
   "metadata": {},
   "outputs": [],
   "source": [
    "#TODO It seems as though all data, besides Primary_CCS, should be in float format\n",
    "# Might just drop Primary_CCS for some analysis here "
   ]
  },
  {
   "cell_type": "code",
   "execution_count": null,
   "metadata": {},
   "outputs": [],
   "source": []
  }
 ],
 "metadata": {
  "kernelspec": {
   "display_name": "Python 3.9.10 ('.venv': venv)",
   "language": "python",
   "name": "python3"
  },
  "language_info": {
   "codemirror_mode": {
    "name": "ipython",
    "version": 3
   },
   "file_extension": ".py",
   "mimetype": "text/x-python",
   "name": "python",
   "nbconvert_exporter": "python",
   "pygments_lexer": "ipython3",
   "version": "3.9.10"
  },
  "orig_nbformat": 4,
  "vscode": {
   "interpreter": {
    "hash": "d722bc0fc29e7c69dd135a416fcdb0b2ace142d109dc9208f8ca1468f116c5e6"
   }
  }
 },
 "nbformat": 4,
 "nbformat_minor": 2
}
